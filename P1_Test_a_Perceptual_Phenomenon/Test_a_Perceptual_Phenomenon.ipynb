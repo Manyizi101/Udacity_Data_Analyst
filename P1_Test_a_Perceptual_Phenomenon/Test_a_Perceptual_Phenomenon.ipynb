{
 "cells": [
  {
   "cell_type": "markdown",
   "metadata": {
    "collapsed": true
   },
   "source": [
    "#Test a Perceptual Phenomenon"
   ]
  },
  {
   "cell_type": "markdown",
   "metadata": {
    "collapsed": true
   },
   "source": [
    "###Question 1: Identify variables in the experiment\n",
    "\n",
    "Independant variable = Word condition\n",
    "\n",
    "Dependant variable = Response time in seconds"
   ]
  },
  {
   "cell_type": "markdown",
   "metadata": {},
   "source": [
    "###Question 2: Establish a hypothesis and statistical test\n",
    "\n",
    "Null hypothesis (H₀) = There is no significant difference in the population average response times between the congruent and incongruent tasks.\n",
    "\n",
    "Alternative hypothesis (Hₐ) = There is a significant difference, either positive or negative, in the population average response times between the congruent and incongruent tasks.\n",
    "\n",
    "The appropriate statistical test to use is the **dependent t-test** as the possible difference between the congruent and incongruent words condition's response times in the sample can be either positive or negative. Furthermore, the test is dependent as the same sample of subjects are doing both, the congruent and incongruent tasks, and no population parameters are provided. This test will provide evidence to support or deny the null hypothesis."
   ]
  },
  {
   "cell_type": "markdown",
   "metadata": {},
   "source": [
    "###Question 3: Report descriptive statistics"
   ]
  },
  {
   "cell_type": "code",
   "execution_count": 1,
   "metadata": {
    "collapsed": false
   },
   "outputs": [
    {
     "data": {
      "text/html": [
       "<div>\n",
       "<table border=\"1\" class=\"dataframe\">\n",
       "  <thead>\n",
       "    <tr style=\"text-align: right;\">\n",
       "      <th></th>\n",
       "      <th>Congruent</th>\n",
       "      <th>Incongruent</th>\n",
       "    </tr>\n",
       "  </thead>\n",
       "  <tbody>\n",
       "    <tr>\n",
       "      <th>count</th>\n",
       "      <td>24.000000</td>\n",
       "      <td>24.000000</td>\n",
       "    </tr>\n",
       "    <tr>\n",
       "      <th>mean</th>\n",
       "      <td>14.051125</td>\n",
       "      <td>22.015917</td>\n",
       "    </tr>\n",
       "    <tr>\n",
       "      <th>std</th>\n",
       "      <td>3.559358</td>\n",
       "      <td>4.797057</td>\n",
       "    </tr>\n",
       "    <tr>\n",
       "      <th>min</th>\n",
       "      <td>8.630000</td>\n",
       "      <td>15.687000</td>\n",
       "    </tr>\n",
       "    <tr>\n",
       "      <th>25%</th>\n",
       "      <td>11.895250</td>\n",
       "      <td>18.716750</td>\n",
       "    </tr>\n",
       "    <tr>\n",
       "      <th>50%</th>\n",
       "      <td>14.356500</td>\n",
       "      <td>21.017500</td>\n",
       "    </tr>\n",
       "    <tr>\n",
       "      <th>75%</th>\n",
       "      <td>16.200750</td>\n",
       "      <td>24.051500</td>\n",
       "    </tr>\n",
       "    <tr>\n",
       "      <th>max</th>\n",
       "      <td>22.328000</td>\n",
       "      <td>35.255000</td>\n",
       "    </tr>\n",
       "  </tbody>\n",
       "</table>\n",
       "</div>"
      ],
      "text/plain": [
       "       Congruent  Incongruent\n",
       "count  24.000000    24.000000\n",
       "mean   14.051125    22.015917\n",
       "std     3.559358     4.797057\n",
       "min     8.630000    15.687000\n",
       "25%    11.895250    18.716750\n",
       "50%    14.356500    21.017500\n",
       "75%    16.200750    24.051500\n",
       "max    22.328000    35.255000"
      ]
     },
     "execution_count": 1,
     "metadata": {},
     "output_type": "execute_result"
    }
   ],
   "source": [
    "import pandas as pd\n",
    "\n",
    "\n",
    "data_frame = pd.read_csv(r'~/Desktop/Udacity_Data_Analyst/P1/stroopdata.csv')\n",
    "\n",
    "data_frame.describe()"
   ]
  },
  {
   "cell_type": "markdown",
   "metadata": {},
   "source": [
    "###Question 4: Plot the data"
   ]
  },
  {
   "cell_type": "code",
   "execution_count": 12,
   "metadata": {
    "collapsed": false,
    "scrolled": true
   },
   "outputs": [
    {
     "name": "stdout",
     "output_type": "stream",
     "text": [
      "Populating the interactive namespace from numpy and matplotlib\n"
     ]
    },
    {
     "data": {
      "image/png": "[encoded data removed]",
      "text/plain": [
       "<matplotlib.figure.Figure at 0x10b61c8d0>"
      ]
     },
     "metadata": {},
     "output_type": "display_data"
    }
   ],
   "source": [
    "import matplotlib.pyplot as plt\n",
    "%pylab inline\n",
    "\n",
    "\n",
    "data_frame['num_participants'] = data_frame.index + 1\n",
    "x = data_frame['num_participants']\n",
    "congruent_y = data_frame['Congruent']\n",
    "incongruent_y = data_frame['Incongruent']\n",
    "\n",
    "plt.plot(x, congruent_y, 'o', markersize=5, color='r')\n",
    "plt.title('Distribution of response times for congruent tasks')\n",
    "plt.xlabel('Number of participants')\n",
    "plt.ylabel('Response time (s)')\n",
    "plt.grid()\n"
   ]
  },
  {
   "cell_type": "code",
   "execution_count": 13,
   "metadata": {
    "collapsed": false
   },
   "outputs": [
    {
     "data": {
      "image/png": "[encoded data removed]",
      "text/plain": [
       "<matplotlib.figure.Figure at 0x10b5db2d0>"
      ]
     },
     "metadata": {},
     "output_type": "display_data"
    }
   ],
   "source": [
    "plt.plot(x, incongruent_y, 'o', markersize=5, color='b')\n",
    "plt.title('Distribution of response times for incongruent tasks')\n",
    "plt.xlabel('Number of participants')\n",
    "plt.ylabel('Response time (s)')\n",
    "plt.grid()\n"
   ]
  },
  {
   "cell_type": "markdown",
   "metadata": {},
   "source": [
    "The above graphs illustrates the response time distributions for the congruent and incongruent tasks, respectively. It can be easily observed that on average the incongruent tasks (22s) takes longer than congruent tasks (14s)."
   ]
  },
  {
   "cell_type": "markdown",
   "metadata": {},
   "source": [
    "###Question 5: Perform the statistical test and interpret your results"
   ]
  },
  {
   "cell_type": "markdown",
   "metadata": {},
   "source": [
    "    confidence level = 95%\n",
    "    degrees of freedom = 25 - 1 = 24\n",
    "    t critical = +/- 2.064"
   ]
  },
  {
   "cell_type": "code",
   "execution_count": 7,
   "metadata": {
    "collapsed": false
   },
   "outputs": [
    {
     "data": {
      "text/plain": [
       "(-8.020706944109957, 4.1030005857111781e-08)"
      ]
     },
     "execution_count": 7,
     "metadata": {},
     "output_type": "execute_result"
    }
   ],
   "source": [
    "from scipy import stats\n",
    "\n",
    "stats.ttest_rel(data_frame['Congruent'], data_frame['Incongruent'])"
   ]
  },
  {
   "cell_type": "markdown",
   "metadata": {},
   "source": [
    "With a t-value of -8.02 that is less than the t-critical of -2.064, and a p-value of much less than 0.0001, the null hypothesis is rejected with a 95% confidence. There is evidence to support the hypothesis that response times are significantly different between congruent and incongruent tasks with the latter taking longer than the former. This finding matches my expectations as I observed myself taking comparitively longer on the incongruent tasks."
   ]
  },
  {
   "cell_type": "markdown",
   "metadata": {},
   "source": [
    "###Question 6: Digging deeper and extending the investigation"
   ]
  },
  {
   "cell_type": "markdown",
   "metadata": {},
   "source": [
    "There are several theories used to explain the stroop effect, but I believe that I comes down to habit - we tend to recognize words as shapes and patterns by default and automatically process and interalize these words before analyzing the colour. With some practice, I was able to get similar times on the stroop test.\n",
    "\n",
    "Instead of the play on words and their colors, the mingling of numerical values and their size would have similar effect. This is known as the Numerical Stroop effect. Subjects are shown a pair of digits with varying physical and numerical dimensions, and asked to perform various tasks with these digits."
   ]
  },
  {
   "cell_type": "markdown",
   "metadata": {},
   "source": [
    "###References\n",
    "\n",
    "- [Pandas documentation](http://pandas.pydata.org/pandas-docs/stable/10min.html)\n",
    "- [Introduction to matplotlib](http://www.astro.washington.edu/users/vanderplas/Astr599/notebooks/06_MatplotlibIntro)\n",
    "- [SciPy documentation](http://docs.scipy.org/doc/scipy/reference/generated/scipy.stats.ttest_rel.html)\n",
    "- [Stroop effect](https://en.wikipedia.org/wiki/Stroop_effect)\n",
    "- [Numerical Stroop effect](https://en.wikipedia.org/wiki/Numerical_Stroop_effect)"
   ]
  },
  {
   "cell_type": "code",
   "execution_count": null,
   "metadata": {
    "collapsed": true
   },
   "outputs": [],
   "source": []
  }
 ],
 "metadata": {
  "kernelspec": {
   "display_name": "Python 2",
   "language": "python",
   "name": "python2"
  },
  "language_info": {
   "codemirror_mode": {
    "name": "ipython",
    "version": 2
   },
   "file_extension": ".py",
   "mimetype": "text/x-python",
   "name": "python",
   "nbconvert_exporter": "python",
   "pygments_lexer": "ipython2",
   "version": "2.7.10"
  }
 },
 "nbformat": 4,
 "nbformat_minor": 0
}
